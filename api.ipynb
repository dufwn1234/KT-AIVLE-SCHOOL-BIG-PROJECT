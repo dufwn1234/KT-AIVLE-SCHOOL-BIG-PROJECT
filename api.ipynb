{
 "cells": [
  {
   "cell_type": "code",
   "execution_count": 1,
   "metadata": {},
   "outputs": [
    {
     "name": "stdout",
     "output_type": "stream",
     "text": [
      "PV 패널은 발전 과정에서 불필요한 열에너지를 발생시켜 온도를 상승시키고 PV 셀의 효율에 영향을 미친다.\n"
     ]
    }
   ],
   "source": [
    "#파파고\n",
    "import requests\n",
    "def papago(text, src=\"en\", dest=\"ko\"):  \n",
    "    data = {'text' : text,\n",
    "            'source' : src,\n",
    "            'target': dest}\n",
    "\n",
    "    url = \"https://naveropenapi.apigw.ntruss.com/nmt/v1/translation\"\n",
    "\n",
    "    header = {\"X-NCP-APIGW-API-KEY-ID\":'x60se8ugmj',\n",
    "              \"X-NCP-APIGW-API-KEY\":\"13i2okWhlx3f9adsFTSC1HsvgalVFPPuehAW39H2\"}\n",
    "\n",
    "    response = requests.post(url, headers=header, data=data)\n",
    "    rescode = response.status_code\n",
    "\n",
    "    if(rescode==200):\n",
    "        send_data = response.json()\n",
    "        trans_data = (send_data['message']['result']['translatedText'])\n",
    "        return trans_data\n",
    "    else:\n",
    "        print(\"Error Code:\" , rescode)\n",
    "\n",
    "abs0 =\"PV panels produce unnecessary heat energy during power generation which increases the temperature and affects the efficiency of PV cells. \"\n",
    "abs_translator1 = papago(abs0, dest=\"ko\")\n",
    "\n",
    "print(f\"{abs_translator1}\")"
   ]
  },
  {
   "cell_type": "code",
   "execution_count": 2,
   "metadata": {},
   "outputs": [
    {
     "name": "stdout",
     "output_type": "stream",
     "text": [
      "{'text': '태양광 패널은 발전 과정에서 불필요한 열 에너지를 생성하여 온도를 높이고 태양광 셀의 효율에 영향을 미칩니다. ', 'alternative_texts': []}\n"
     ]
    }
   ],
   "source": [
    "#DeepL Translator (RapidAPI)\n",
    "#https://rapidapi.com/splintPRO/api/deepl-translator/\n",
    "import requests\n",
    "\n",
    "url = \"https://deepl-translator.p.rapidapi.com/translate\"\n",
    "\n",
    "payload = {\n",
    "\t\"text\": \"PV panels produce unnecessary heat energy during power generation which increases the temperature and affects the efficiency of PV cells. \",\n",
    "\t\"source\": \"EN\",\n",
    "\t\"target\": \"KO\"\n",
    "}\n",
    "headers = {\n",
    "\t\"content-type\": \"application/json\",\n",
    "\t\"X-RapidAPI-Key\": \"bcb9e66118msh0d2e3a3179a3a31p1e0a6bjsna1d8d0159e7b\",\n",
    "\t\"X-RapidAPI-Host\": \"deepl-translator.p.rapidapi.com\"\n",
    "}\n",
    "\n",
    "response = requests.post(url, json=payload, headers=headers)\n",
    "\n",
    "print(response.json())"
   ]
  },
  {
   "cell_type": "code",
   "execution_count": null,
   "metadata": {},
   "outputs": [],
   "source": [
    "########################################################################\n",
    "# !pip install googletrans==3.1.0a0"
   ]
  },
  {
   "cell_type": "code",
   "execution_count": 3,
   "metadata": {},
   "outputs": [
    {
     "name": "stdout",
     "output_type": "stream",
     "text": [
      "PV 패널은 발전 중에 불필요한 열 에너지를 생성하여 온도를 높이고 PV 전지의 효율에 영향을 미칩니다.\n"
     ]
    }
   ],
   "source": [
    "#Google Translate\n",
    "abs0 =\"PV panels produce unnecessary heat energy during power generation which increases the temperature and affects the efficiency of PV cells. \"\n",
    "\n",
    "from googletrans import Translator\n",
    "\n",
    "google = Translator()\n",
    "\n",
    "# 초록 요약\n",
    "\n",
    "abs_translator0 = google.translate(abs0, dest=\"ko\")  # 초록 번역\n",
    "print(f\"{abs_translator0.text}\")"
   ]
  },
  {
   "cell_type": "code",
   "execution_count": 7,
   "metadata": {},
   "outputs": [],
   "source": [
    "########################################################################\n",
    "# !pip install --upgrade google-cloud-texttospeech"
   ]
  },
  {
   "cell_type": "code",
   "execution_count": 4,
   "metadata": {},
   "outputs": [
    {
     "name": "stdout",
     "output_type": "stream",
     "text": [
      "Audio content written to file \"output.mp3\"\n"
     ]
    }
   ],
   "source": [
    "# Google Cloud Platform text to speech\n",
    "from google.cloud import texttospeech\n",
    "from google.oauth2 import service_account\n",
    "from IPython.display import Audio\n",
    "from IPython.display import display\n",
    "\n",
    "# 자격증명 파일의 경로\n",
    "credentials_path = 'C:/Users/dufwn/Desktop/bigp-389308-b4e8eeb24a89.json'\n",
    "\n",
    "# 자격증명 로드\n",
    "credentials = service_account.Credentials.from_service_account_file(credentials_path)\n",
    "\n",
    "# 클라이언트 생성\n",
    "client = texttospeech.TextToSpeechClient(credentials=credentials)\n",
    "\n",
    "# Set the text input to be synthesized\n",
    "synthesis_input = texttospeech.SynthesisInput(text=\"我喜欢吃冰淇淋\")\n",
    "\n",
    "# Build the voice request, select the language code (\"en-US\") and the ssml\n",
    "# voice gender (\"neutral\")\n",
    "voice = texttospeech.VoiceSelectionParams(\n",
    "    language_code=\"cmn-CN\", ssml_gender=texttospeech.SsmlVoiceGender.NEUTRAL,name='cmn-CN-Wavenet-A'\n",
    ")\n",
    "\n",
    "# Select the type of audio file you want returned\n",
    "audio_config = texttospeech.AudioConfig(\n",
    "    audio_encoding=texttospeech.AudioEncoding.MP3\n",
    ")\n",
    "\n",
    "# Perform the text-to-speech request on the text input with the selected\n",
    "# voice parameters and audio file type\n",
    "response = client.synthesize_speech(\n",
    "    input=synthesis_input, voice=voice, audio_config=audio_config\n",
    ")\n",
    "\n",
    "# The response's audio_content is binary.\n",
    "with open(\"output.wav\", \"wb\") as out:\n",
    "    # Write the response to the output file.\n",
    "    out.write(response.audio_content)\n",
    "    print('Audio content written to file \"output.mp3\"')"
   ]
  },
  {
   "cell_type": "code",
   "execution_count": 72,
   "metadata": {},
   "outputs": [
    {
     "data": {
      "text/html": [
       "\n",
       "                <audio  controls=\"controls\" autoplay=\"autoplay\">\n",
       "                    <source src=\"data:audio/wav;base64,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\" type=\"audio/wav\" />\n",
       "                    Your browser does not support the audio element.\n",
       "                </audio>\n",
       "              "
      ],
      "text/plain": [
       "<IPython.lib.display.Audio object>"
      ]
     },
     "metadata": {},
     "output_type": "display_data"
    }
   ],
   "source": [
    "wnwn = Audio(\"output.wav\",autoplay=True)\n",
    "display(wnwn)"
   ]
  },
  {
   "cell_type": "code",
   "execution_count": 1,
   "metadata": {},
   "outputs": [
    {
     "name": "stdout",
     "output_type": "stream",
     "text": [
      "Collecting gTTS\n",
      "  Downloading gTTS-2.3.2-py3-none-any.whl (28 kB)\n",
      "Requirement already satisfied: requests<3,>=2.27 in c:\\users\\dufwn\\appdata\\roaming\\python\\python310\\site-packages (from gTTS) (2.28.2)\n",
      "Requirement already satisfied: click<8.2,>=7.1 in c:\\users\\dufwn\\appdata\\roaming\\python\\python310\\site-packages (from gTTS) (8.1.3)\n",
      "Requirement already satisfied: colorama in c:\\users\\dufwn\\appdata\\roaming\\python\\python310\\site-packages (from click<8.2,>=7.1->gTTS) (0.4.6)\n",
      "Requirement already satisfied: charset-normalizer<4,>=2 in c:\\users\\dufwn\\appdata\\roaming\\python\\python310\\site-packages (from requests<3,>=2.27->gTTS) (3.1.0)\n",
      "Requirement already satisfied: idna<4,>=2.5 in c:\\users\\dufwn\\anaconda3\\envs\\mini7\\lib\\site-packages (from requests<3,>=2.27->gTTS) (2.10)\n",
      "Requirement already satisfied: urllib3<1.27,>=1.21.1 in c:\\users\\dufwn\\appdata\\roaming\\python\\python310\\site-packages (from requests<3,>=2.27->gTTS) (1.26.15)\n",
      "Requirement already satisfied: certifi>=2017.4.17 in c:\\users\\dufwn\\appdata\\roaming\\python\\python310\\site-packages (from requests<3,>=2.27->gTTS) (2022.12.7)\n",
      "Installing collected packages: gTTS\n",
      "Successfully installed gTTS-2.3.2\n"
     ]
    }
   ],
   "source": [
    "########################################################################\n",
    "# !pip install gTTS"
   ]
  },
  {
   "cell_type": "code",
   "execution_count": 57,
   "metadata": {},
   "outputs": [
    {
     "ename": "PermissionError",
     "evalue": "[Errno 13] Permission denied: 'hi.mp3'",
     "output_type": "error",
     "traceback": [
      "\u001b[1;31m---------------------------------------------------------------------------\u001b[0m",
      "\u001b[1;31mPermissionError\u001b[0m                           Traceback (most recent call last)",
      "Cell \u001b[1;32mIn[57], line 10\u001b[0m\n\u001b[0;32m      8\u001b[0m text \u001b[39m=\u001b[39m \u001b[39m\"\u001b[39m\u001b[39m你好\u001b[39m\u001b[39m\"\u001b[39m\n\u001b[0;32m      9\u001b[0m tts \u001b[39m=\u001b[39m gTTS(text, lang\u001b[39m=\u001b[39m\u001b[39m\"\u001b[39m\u001b[39mzh\u001b[39m\u001b[39m\"\u001b[39m)\n\u001b[1;32m---> 10\u001b[0m tts\u001b[39m.\u001b[39;49msave(\u001b[39m\"\u001b[39;49m\u001b[39mhi.mp3\u001b[39;49m\u001b[39m\"\u001b[39;49m)\n\u001b[0;32m     11\u001b[0m pygame\u001b[39m.\u001b[39mmixer\u001b[39m.\u001b[39minit()\n\u001b[0;32m     12\u001b[0m pygame\u001b[39m.\u001b[39mmixer\u001b[39m.\u001b[39mmusic\u001b[39m.\u001b[39mload(\u001b[39m'\u001b[39m\u001b[39mhi.mp3\u001b[39m\u001b[39m'\u001b[39m)\n",
      "File \u001b[1;32mc:\\Users\\dufwn\\anaconda3\\envs\\mini7\\lib\\site-packages\\gtts\\tts.py:324\u001b[0m, in \u001b[0;36mgTTS.save\u001b[1;34m(self, savefile)\u001b[0m\n\u001b[0;32m    314\u001b[0m \u001b[39mdef\u001b[39;00m \u001b[39msave\u001b[39m(\u001b[39mself\u001b[39m, savefile):\n\u001b[0;32m    315\u001b[0m \u001b[39m    \u001b[39m\u001b[39m\"\"\"Do the TTS API request and write result to file.\u001b[39;00m\n\u001b[0;32m    316\u001b[0m \n\u001b[0;32m    317\u001b[0m \u001b[39m    Args:\u001b[39;00m\n\u001b[1;32m   (...)\u001b[0m\n\u001b[0;32m    322\u001b[0m \n\u001b[0;32m    323\u001b[0m \u001b[39m    \"\"\"\u001b[39;00m\n\u001b[1;32m--> 324\u001b[0m     \u001b[39mwith\u001b[39;00m \u001b[39mopen\u001b[39;49m(\u001b[39mstr\u001b[39;49m(savefile), \u001b[39m\"\u001b[39;49m\u001b[39mwb\u001b[39;49m\u001b[39m\"\u001b[39;49m) \u001b[39mas\u001b[39;00m f:\n\u001b[0;32m    325\u001b[0m         \u001b[39mself\u001b[39m\u001b[39m.\u001b[39mwrite_to_fp(f)\n\u001b[0;32m    326\u001b[0m         log\u001b[39m.\u001b[39mdebug(\u001b[39m\"\u001b[39m\u001b[39mSaved to \u001b[39m\u001b[39m%s\u001b[39;00m\u001b[39m\"\u001b[39m, savefile)\n",
      "\u001b[1;31mPermissionError\u001b[0m: [Errno 13] Permission denied: 'hi.mp3'"
     ]
    }
   ],
   "source": [
    "#Google Text to Speech\n",
    "from gtts import gTTS\n",
    "from IPython.display import Audio\n",
    "from IPython.display import display\n",
    "import pygame\n",
    "import sys\n",
    "\n",
    "\n",
    "text = \"你好\"\n",
    "tts = gTTS(text, lang=\"zh\")\n",
    "tts.save(\"hi.mp3\")\n",
    "pygame.mixer.init()\n",
    "pygame.mixer.music.load('hi.mp3')\n",
    "pygame.mixer.music.play()\n",
    "sys.exit()"
   ]
  },
  {
   "cell_type": "code",
   "execution_count": 47,
   "metadata": {},
   "outputs": [
    {
     "data": {
      "text/html": [
       "\n",
       "                <audio  controls=\"controls\" autoplay=\"autoplay\">\n",
       "                    <source src=\"data:audio/mpeg;base64,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\" type=\"audio/mpeg\" />\n",
       "                    Your browser does not support the audio element.\n",
       "                </audio>\n",
       "              "
      ],
      "text/plain": [
       "<IPython.lib.display.Audio object>"
      ]
     },
     "metadata": {},
     "output_type": "display_data"
    }
   ],
   "source": [
    "wn = Audio(\"hi2.mp3\",autoplay=True)\n",
    "display(wn)"
   ]
  },
  {
   "cell_type": "code",
   "execution_count": 54,
   "metadata": {},
   "outputs": [],
   "source": [
    "# !pip install pygame"
   ]
  },
  {
   "cell_type": "code",
   "execution_count": 59,
   "metadata": {},
   "outputs": [],
   "source": [
    "import pygame\n",
    "pygame.mixer.init()\n",
    "pygame.mixer.music.load('C:/Users/dufwn/Desktop/hi.mp3')\n",
    "pygame.mixer.music.play()"
   ]
  },
  {
   "cell_type": "code",
   "execution_count": 60,
   "metadata": {},
   "outputs": [
    {
     "data": {
      "text/plain": [
       "True"
      ]
     },
     "execution_count": 60,
     "metadata": {},
     "output_type": "execute_result"
    }
   ],
   "source": [
    "import webbrowser\n",
    "webbrowser.open(\"hi.mp3\")"
   ]
  },
  {
   "cell_type": "code",
   "execution_count": 1,
   "metadata": {},
   "outputs": [
    {
     "data": {
      "text/plain": [
       "{'af': 'Afrikaans',\n",
       " 'ar': 'Arabic',\n",
       " 'bg': 'Bulgarian',\n",
       " 'bn': 'Bengali',\n",
       " 'bs': 'Bosnian',\n",
       " 'ca': 'Catalan',\n",
       " 'cs': 'Czech',\n",
       " 'da': 'Danish',\n",
       " 'de': 'German',\n",
       " 'el': 'Greek',\n",
       " 'en': 'English',\n",
       " 'es': 'Spanish',\n",
       " 'et': 'Estonian',\n",
       " 'fi': 'Finnish',\n",
       " 'fr': 'French',\n",
       " 'gu': 'Gujarati',\n",
       " 'hi': 'Hindi',\n",
       " 'hr': 'Croatian',\n",
       " 'hu': 'Hungarian',\n",
       " 'id': 'Indonesian',\n",
       " 'is': 'Icelandic',\n",
       " 'it': 'Italian',\n",
       " 'iw': 'Hebrew',\n",
       " 'ja': 'Japanese',\n",
       " 'jw': 'Javanese',\n",
       " 'km': 'Khmer',\n",
       " 'kn': 'Kannada',\n",
       " 'ko': 'Korean',\n",
       " 'la': 'Latin',\n",
       " 'lv': 'Latvian',\n",
       " 'ml': 'Malayalam',\n",
       " 'mr': 'Marathi',\n",
       " 'ms': 'Malay',\n",
       " 'my': 'Myanmar (Burmese)',\n",
       " 'ne': 'Nepali',\n",
       " 'nl': 'Dutch',\n",
       " 'no': 'Norwegian',\n",
       " 'pl': 'Polish',\n",
       " 'pt': 'Portuguese',\n",
       " 'ro': 'Romanian',\n",
       " 'ru': 'Russian',\n",
       " 'si': 'Sinhala',\n",
       " 'sk': 'Slovak',\n",
       " 'sq': 'Albanian',\n",
       " 'sr': 'Serbian',\n",
       " 'su': 'Sundanese',\n",
       " 'sv': 'Swedish',\n",
       " 'sw': 'Swahili',\n",
       " 'ta': 'Tamil',\n",
       " 'te': 'Telugu',\n",
       " 'th': 'Thai',\n",
       " 'tl': 'Filipino',\n",
       " 'tr': 'Turkish',\n",
       " 'uk': 'Ukrainian',\n",
       " 'ur': 'Urdu',\n",
       " 'vi': 'Vietnamese',\n",
       " 'zh-CN': 'Chinese (Simplified)',\n",
       " 'zh-TW': 'Chinese (Mandarin/Taiwan)',\n",
       " 'zh': 'Chinese (Mandarin)'}"
      ]
     },
     "execution_count": 1,
     "metadata": {},
     "output_type": "execute_result"
    }
   ],
   "source": [
    "from gtts import lang\n",
    "lang.tts_langs()"
   ]
  },
  {
   "cell_type": "code",
   "execution_count": 21,
   "metadata": {},
   "outputs": [],
   "source": [
    "########################################################################\n",
    "# !pip install azure-cognitiveservices-speech"
   ]
  },
  {
   "cell_type": "code",
   "execution_count": 5,
   "metadata": {},
   "outputs": [
    {
     "name": "stdout",
     "output_type": "stream",
     "text": [
      "Enter some text that you want to speak >\n",
      "Speech synthesized for text [hi]\n"
     ]
    }
   ],
   "source": [
    "# microsoft azure cognitive services text-to-speech\n",
    "import os\n",
    "import azure.cognitiveservices.speech as speechsdk\n",
    "\n",
    "\n",
    "# This example requires environment variables named \"SPEECH_KEY\" and \"SPEECH_REGION\"\n",
    "speech_config = speechsdk.SpeechConfig(subscription='612d765c764e4794be080931e3b768fb', region='koreacentral')\n",
    "audio_config = speechsdk.audio.AudioOutputConfig(use_default_speaker=True)\n",
    "\n",
    "# The language of the voice that speaks.\n",
    "speech_config.speech_synthesis_voice_name='en-US-JennyNeural'\n",
    "\n",
    "speech_synthesizer = speechsdk.SpeechSynthesizer(speech_config=speech_config, audio_config=audio_config)\n",
    "\n",
    "# Get text from the console and synthesize to the default speaker.\n",
    "print(\"Enter some text that you want to speak >\")\n",
    "text = input()\n",
    "\n",
    "speech_synthesis_result = speech_synthesizer.speak_text_async(text).get()\n",
    "\n",
    "if speech_synthesis_result.reason == speechsdk.ResultReason.SynthesizingAudioCompleted:\n",
    "    print(\"Speech synthesized for text [{}]\".format(text))\n",
    "elif speech_synthesis_result.reason == speechsdk.ResultReason.Canceled:\n",
    "    cancellation_details = speech_synthesis_result.cancellation_details\n",
    "    print(\"Speech synthesis canceled: {}\".format(cancellation_details.reason))\n",
    "    if cancellation_details.reason == speechsdk.CancellationReason.Error:\n",
    "        if cancellation_details.error_details:\n",
    "            print(\"Error details: {}\".format(cancellation_details.error_details))\n",
    "            print(\"Did you set the speech resource key and region values?\")"
   ]
  },
  {
   "cell_type": "code",
   "execution_count": 23,
   "metadata": {},
   "outputs": [],
   "source": [
    "import os\n",
    "import azure.cognitiveservices.speech as speechsdk\n",
    "from azure.cognitiveservices.speech import AudioDataStream\n",
    "\n",
    "# This example requires environment variables named \"SPEECH_KEY\" and \"SPEECH_REGION\"\n",
    "speech_config = speechsdk.SpeechConfig(subscription='612d765c764e4794be080931e3b768fb', region='koreacentral')\n",
    "audio_config = speechsdk.audio.AudioOutputConfig(use_default_speaker=True)\n",
    "# audio_config = speechsdk.audio.AudioOutputConfig(filename=\"C:/Users/dufwn/Desktop/file.wav\",use_default_speaker=True)\n",
    "\n",
    "# The language of the voice that speaks.\n",
    "speech_config.speech_synthesis_voice_name='en-US-JennyNeural'\n",
    "\n",
    "speech_synthesizer = speechsdk.SpeechSynthesizer(speech_config=speech_config, audio_config=audio_config)\n",
    "\n",
    "# Get text from the console and synthesize to the default speaker.\n",
    "# print(\"Enter some text that you want to speak >\")\n",
    "# text = input()\n",
    "\n",
    "speech_synthesis_result = speech_synthesizer.speak_text_async(\"I'm excited to try text to speech\").get()\n",
    "stream = AudioDataStream(speech_synthesis_result)\n",
    "stream.save_to_wav_file(\"C:/Users/dufwn/Desktop/file11.wav\")\n",
    "\n",
    "# if speech_synthesis_result.reason == speechsdk.ResultReason.SynthesizingAudioCompleted:\n",
    "#     print(\"Speech synthesized for text [{}]\".format(text))\n",
    "# elif speech_synthesis_result.reason == speechsdk.ResultReason.Canceled:\n",
    "#     cancellation_details = speech_synthesis_result.cancellation_details\n",
    "#     print(\"Speech synthesis canceled: {}\".format(cancellation_details.reason))\n",
    "#     if cancellation_details.reason == speechsdk.CancellationReason.Error:\n",
    "#         if cancellation_details.error_details:\n",
    "#             print(\"Error details: {}\".format(cancellation_details.error_details))\n",
    "#             print(\"Did you set the speech resource key and region values?\")\n",
    "########################################################################"
   ]
  },
  {
   "cell_type": "code",
   "execution_count": 7,
   "metadata": {},
   "outputs": [],
   "source": [
    "# !pip install twilio"
   ]
  },
  {
   "cell_type": "code",
   "execution_count": 15,
   "metadata": {},
   "outputs": [],
   "source": [
    "# twilio 문자보내기\n",
    "import os\n",
    "from twilio.rest import Client\n",
    "# Set environment variables for your credentials\n",
    "# Read more at http://twil.io/secure\n",
    "account_sid = \"ACa0a888268f1ccccc271e417826c74886\"\n",
    "auth_token = \"18d1c29db7eec5b093ee24bd6069e2f7\"\n",
    "client = Client(account_sid, auth_token)\n",
    "message = client.messages.create(\n",
    "  body=\"안녕\",\n",
    "  from_=\"+13613154870\",\n",
    "  to=\"+821020631392\"\n",
    ")"
   ]
  },
  {
   "cell_type": "code",
   "execution_count": 5,
   "metadata": {},
   "outputs": [],
   "source": [
    "########################################################################\n",
    "# !pip install bardapi"
   ]
  },
  {
   "cell_type": "code",
   "execution_count": 6,
   "metadata": {},
   "outputs": [
    {
     "name": "stdout",
     "output_type": "stream",
     "text": [
      "Choice 1:\n",
      " 고객은 초등학교 1학년 아이가 있는 부모입니다. 아이가 수학을 미리 배우는 것이 좋을 것 같아 아이디어 학습지 신청을 위해 상담전화했습니다. 상담원과 학습 내용, 수업 시간, 선생님 성별, 선행학습 여부, 수강 과목, 할인 쿠폰 사용 여부 등을 상담했습니다. 고객은 월요일과 수요일 밤 9시 30분에 수업을 신청했고, 다음 주 화요일부터 수업이 시작될 예정입니다. \n",
      "\n",
      "Choice 2:\n",
      " 네, 알겠습니다. 다음은 '아이디어 학습지' 상담원 강은빈과 고객과의 대화 내용을 요약한 것입니다.\n",
      "\n",
      "* 고객은 초등학교 1학년 아이를 둔 부모입니다.\n",
      "* 고객은 아이가 수학을 미리 배우면 좋겠다고 생각하여 아이디어 학습지를 신청하고 싶습니다.\n",
      "* 고객은 학습지가 연산 위주로 되어 있는지, 효과가 있는지, 주에 몇 회 수업하는지, 같은 선생님이 오는지, 선생님 성별은 무엇인지, 평일 밤 몇 시까지 수업이 가능한지, 이맘때 아이들이 학습지로 선행학습을 많이 하는지, 선행학습이 현재 학년을 다 할 수 있어야 뺄 수 있는지, 수학 말고 추천할 만한 과목이 있는지, 국어 학습지 샘플에는 짧은 지문 읽고 문제 푸는 것뿐인데 그 외에 무엇을 가르쳐 주는 지, 국어 담당 선생님은 수학 가르쳐 주는 분과 다른 분인지, 할인 쿠폰이 적용 가능한지, 수업은 다음 주 화요일에 바로 시작 가능한지 등을 문의했습니다.\n",
      "* 상담원은 학습지가 연산 위주로 되어 있으며 효과가 있다고 답변했습니다. 또한, 주에 2회 수업이 가능하며 같은 선생님이 오는 것이 원칙이지만, 고객이 원하는 아파트 지역의 선생님 성별이 여성이기 때문에 여성 선생님이 방문할 수 있다고 답변했습니다. 평일 밤 10시까지 수업이 가능하며, 이맘때 아이들은 학습지로 선행학습을 많이 하는 편이라고 답변했습니다. 선행학습은 현재 학년을 다 할 수 있어야 뺄 수 있다고 답변했습니다. 수학 말고 추천할 만한 과목은 국어라고 답변했습니다. 국어 학습지 샘플에는 짧은 지문 읽고 문제 푸는 것뿐이지만, 이론도 가르쳐 준다고 답변했습니다. 국어 담당 선생님은 수학 가르쳐 주는 분과 같은 분이라고 답변했습니다. 할인 쿠폰은 적용 가능하다고 답변했습니다. 수업은 다음 주 화요일에 바로 시작 가능하지만, 쿠폰 이용기한이 오늘까지이기 때문에 오늘 신청해야 한다고 답변했습니다.\n",
      "\n",
      "이상으로 '아이디어 학습지' 상담원 강은빈과 고객과의 대화 내용을 요약하였습니다. \n",
      "\n",
      "Choice 3:\n",
      " 네, 알겠습니다.\n",
      "\n",
      "고객은 아이+ 아이 학습지에 전화를 걸어 초등학교 1학년 아이의 수학 학습을 문의했습니다. 학습지가 연산 위주로 되어 있고, 효과가 있는지, 주에 몇 회 수업하는지, 같은 선생님이 오는지, 선생님의 성별은 무엇인지, 평균적으로 주에 몇 회 수업을 하는지, 낮 수업이 가능한지, 평일 밤 몇 시까지 수업이 가능한지, 선행학습이 되는지, 선행학습이 현재 학년을 다 할 수 있어야 하는지, 수학 말고 다른 과목도 추천해 주는 지, 국어 학습지 샘플에 뭐가 있는지, 국어 담당 선생님은 수학 담당 선생님과 같은 분인지, 할인 쿠폰이 적용되는지, 수업을 언제 시작할 수 있는지 문의했습니다.\n",
      "\n",
      "상담원은 학습지가 연산 위주로 되어 있고, 정확한 연산 훈련에 도움이 된다고 답했습니다. 주에 몇 회 수업하는지는 고객이 원하는 대로이며, 같은 선생님이 온다고 답했습니다. 선생님의 성별은 연희동 현대 21차 아파트에 거주하는 고객의 경우 여성이라고 답했습니다. 평균적으로 주에 2회 수업을 하며, 낮 수업은 불가능하고, 평일 밤 10시까지 수업이 가능하다고 답했습니다. 선행학습은 현재 학년을 다 할 수 있어야 가능하다고 답했습니다. 수학 말고 국어도 추천해 주었으며, 국어 학습지 샘플에는 짧은 지문 읽고 문제 푸는 것 외에도 이론이 포함되어 있다고 답했습니다. 국어 담당 선생님은 수학 담당 선생님과 같은 분이라고 답했습니다. 할인 쿠폰은 이용 기한이 내일까지이며, 연장은 불가능하다고 답했습니다. 수업은 다음 주 화요일에 바로 시작할 수 있다고 답했습니다.\n",
      "\n",
      "고객은 할인 쿠폰을 사용하여 초등학교 1학년 수학과 국어를 화요일과 목요일 밤 9시 30분에 배우기로 결정했습니다. \n",
      "\n"
     ]
    }
   ],
   "source": [
    "# bard api\n",
    "import bardapi\n",
    "import os\n",
    "os.environ[\"_BARD_API_KEY\"] = \"XQgOVGsSD7eGDvKozvshtguxw_ocrPgdqwOopYUDYMfX9B1FlsXc2bJ27Ip945izhZoYAA.\"\n",
    "input_text = \"아이디어 학습지 상담원 강은빈입니다.\\n안녕하세요. 아이+ 아이 학습지 신청하려고 상담 전화드렸어요. 아이가 초등학교 (1학년)/(일 학년)인데 수학 좀 미리 배우는 게 낫겠다 싶어서. 학습지는 연산 위주로 되어 있나요?n/ 그런데 연산 위주로 되어 있어도 정말 효과가 있나요? 단순 계산만으로도 아이가 실제 수학 문제 풀 때 도움이 될까 싶어서요.n/ 물론 자기 주도 학습에 좋은 건 아는데, 문제 푸는 스킬 같은 거에 실질적인 도움이 되나요? 학원처럼 문제집을 푸는 것도 아니고, 단순히 수학 계산인데 이게 진짜 나중에 효과가 있을지.n/ 정확한 연산 훈련에 도움이 되세요.n/ 하긴 그렇겠네요. 주에 몇 회 수업하나요?n/ 원하시는 대로요.n/ 주에 몇 회가 되든 간에 늘 같은 선생님이 오시면 좋겠는데, 같은 선생님이 오시는 거죠?n/ 저 연희동 현대 (21차)/(이십 일 차) 아파트 거주하는데 이 쪽 구역 선생님 성별이 혹시 어떻게 되는지 알 수 있을까요? 저희 애가 이상하게 남자 선생님을 무서워해서.n/ 여성분입니다.n/ 아 그럼 좀 안심이네요. 주 몇 회 정도가 평균적으로 하는 횟수인가요? 초등학교 (1학년)/(일 학년) 수학을 기준으로요.n/ 보통 (2회)/(이 회)요.n/ 제가 회사 다녀서 낮 수업은 좀 곤란할 것 같은데, 평일 밤 몇 시까지 괜찮은가요?n/ (10시)/(열 시)까지요.n/ 아/ 다행이네요. 그러면 화요일, 목요일 밤 (9시)/(아홉 시) (30분)/(삼십 분)에 저희 집 오시는 선생님 스케줄 비는지 확인해주시겠어요?n/ 그땐 안되세요.n/ 이런/ 혹시 그럼 월요일, 수요일 밤 (9시)/(아홉 시) (30분)/(삼십 분)은요?n/ 됩니다.n/ 잠시만요, 메모해둘게요. 됐다. 그리고 또 궁금한 게 있는데, 이맘때 아이들이 학습지로 선행학습도 많이 하나요? 주변에 학원 다니는 애들 보니까 벌써 (4학년)/(사 학년) 수학을 하고 (있더라고요)/(있더라구요). 학원이 워낙 빠르다+ 빠르다 보니까.n/ 네, 합니다.n/ 그 선행학습이, 현재 학년을 다 할 수 있어야지 뺄 수 있는 거겠죠?n/ 할 수 있다는 건 어떻게 아나요? 첫날에 방문하시는 선생님이랑 상담하나요?n/ 첫날에 시험 봐요.n/ 아/ 그렇구나. 혹시 수학 말고 또 추천해주실 만한 과목 있을까요? 괜히 혼자 해도 될 과목까지 다 배울 필요는 없을 것 같아서요. 제일 많이 하는 과목이 수학이라고 들었는데, 두 번째가 뭔가요?n/ 국어요.n/ (팸플릿)/(팜플렛) 보니까 국어 학습지 샘플에 짧은 지문 읽고 문제 푸는 것뿐인데, 그 외에 또 뭐 가르쳐주시나요?n/ 이론이요.n/ 아/ 맞다, 국어에도 이론이 있었죠. 국어 담당 선생님은 수학 가르쳐주시는 분하고 다른 분이겠죠? 그분 스케줄도 알 수 있을까요?n/ 같은 분입니다.n/ 정말로요? 그렇게 해도 되나요? 과목에 대한 전문성이 좀 떨어질 것 같은데. 과목당 선생님이 달라야 하는 거 아닌가요?n/ 문제없습니다.n/ 아/ 그럼 수학이랑, 국어. 우선 아이랑 좀 더 상의하고 다시 전화드릴게요. 맞다, 여기 아파트 앞에 천막 같은 거 세우고 홍보 오셔서 알게 된 건데, 거기 계시던 직원분이 할인 쿠폰 주셨거든요. 이거 적용 가능한 거 맞죠?n/ 쿠폰 이용기한 말씀해주세요.n/ 잠시만요. 어/ 이거 내일까지네요. 이용기한 연장은 못하나요?n/ 불가합니다.n/ 아/ 이런/ 그러면 그냥 오늘 신청할게요. 초등학교 (1학년)/(일 학년) 과정 수학이랑 국어 (2)/(둘) 다 화요일 목요일 밤 (9시)/(아홉 시) (30분)/(삼십 분)으로 해주세요. 아이 이름은 정유아이고, 무람초등학교 (1학년)/(일 학년)이에요. 수업은 다음 주 화요일에 바로 시작 가능할까요?n/ 네, 쿠폰번호 알려주세요.n/ (B12345)/(비 일 이 삼 사 오)예요.n/ 문자로 결제정보 보내드릴게요. 통화 종료 후 결제 완료해주세요.n/ 네, 알겠습니다. 감사합니다.n/ 강은빈이었습니다. 감사합니다.\\n 이 대화내용을 요약해줘(한국어)\"\n",
    "response = bardapi.core.Bard().get_answer(input_text)\n",
    "\n",
    "for i,choice in enumerate(response[\"choices\"]):\n",
    "    print(f\"Choice {i+1}:\\n\", choice[\"content\"][0],\"\\n\")"
   ]
  },
  {
   "cell_type": "code",
   "execution_count": null,
   "metadata": {},
   "outputs": [],
   "source": []
  }
 ],
 "metadata": {
  "kernelspec": {
   "display_name": "mini7",
   "language": "python",
   "name": "python3"
  },
  "language_info": {
   "codemirror_mode": {
    "name": "ipython",
    "version": 3
   },
   "file_extension": ".py",
   "mimetype": "text/x-python",
   "name": "python",
   "nbconvert_exporter": "python",
   "pygments_lexer": "ipython3",
   "version": "3.10.11"
  },
  "orig_nbformat": 4
 },
 "nbformat": 4,
 "nbformat_minor": 2
}
